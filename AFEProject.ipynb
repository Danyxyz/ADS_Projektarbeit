{
  "nbformat": 4,
  "nbformat_minor": 0,
  "metadata": {
    "colab": {
      "provenance": [],
      "include_colab_link": true
    },
    "kernelspec": {
      "name": "python3",
      "display_name": "Python 3"
    },
    "language_info": {
      "name": "python"
    },
    "gpuClass": "standard"
  },
  "cells": [
    {
      "cell_type": "markdown",
      "metadata": {
        "id": "view-in-github",
        "colab_type": "text"
      },
      "source": [
        "<a href=\"https://colab.research.google.com/github/Danyxyz/ADS_Projektarbeit/blob/main/AFEProject.ipynb\" target=\"_parent\"><img src=\"https://colab.research.google.com/assets/colab-badge.svg\" alt=\"Open In Colab\"/></a>"
      ]
    },
    {
      "cell_type": "code",
      "source": [
        "!pip install sklearn"
      ],
      "metadata": {
        "id": "vThNBNYOI5b9",
        "outputId": "416a2ed0-e5a0-4cac-b903-b541d64ed552",
        "colab": {
          "base_uri": "https://localhost:8080/"
        }
      },
      "execution_count": 3,
      "outputs": [
        {
          "output_type": "stream",
          "name": "stdout",
          "text": [
            "Looking in indexes: https://pypi.org/simple, https://us-python.pkg.dev/colab-wheels/public/simple/\n",
            "Collecting sklearn\n",
            "  Downloading sklearn-0.0.post1.tar.gz (3.6 kB)\n",
            "Building wheels for collected packages: sklearn\n",
            "  Building wheel for sklearn (setup.py) ... \u001b[?25l\u001b[?25hdone\n",
            "  Created wheel for sklearn: filename=sklearn-0.0.post1-py3-none-any.whl size=2344 sha256=59d991829dae81b05625c0604feb96ef2997d7b9d862010ad963b7460c98e0c8\n",
            "  Stored in directory: /root/.cache/pip/wheels/42/56/cc/4a8bf86613aafd5b7f1b310477667c1fca5c51c3ae4124a003\n",
            "Successfully built sklearn\n",
            "Installing collected packages: sklearn\n",
            "Successfully installed sklearn-0.0.post1\n"
          ]
        }
      ]
    },
    {
      "cell_type": "code",
      "execution_count": 4,
      "metadata": {
        "id": "KJx7honLFn1n"
      },
      "outputs": [],
      "source": [
        "from pandas.core.dtypes.inference import Number\n",
        "from pandas.core.common import random_state\n",
        "from pandas import DataFrame\n",
        "import pandas as pd"
      ]
    },
    {
      "cell_type": "code",
      "source": [
        "#read in the data, only use relevant coloumns\n",
        "data = pd.read_csv(\"/content/drive/MyDrive/Colab Notebooks/Gebaude_Bauzonen.csv\",on_bad_lines=\"warn\", engine=\"python\", delimiter=',',usecols=['GGDENR','CH_BEZ_D','GKODE','GKODN'])\n",
        "\n",
        "#Formatting, putting in a DataFrame\n",
        "df_gebaude = pd.DataFrame(data)\n",
        "df_gebaude = df_gebaude.rename(columns={'CH_BEZ_D': 'Bauzone'})\n",
        "df_gebaude[\"Index\"] = \"\"\n",
        "df_gebaude.head(5)\n"
      ],
      "metadata": {
        "id": "gVoqJWtPHo5e",
        "colab": {
          "base_uri": "https://localhost:8080/",
          "height": 206
        },
        "outputId": "d5c2e7cc-418d-450d-95d6-bc109e72f081"
      },
      "execution_count": 7,
      "outputs": [
        {
          "output_type": "execute_result",
          "data": {
            "text/plain": [
              "   GGDENR        GKODE        GKODN     Bauzone Index\n",
              "0       1  2679647.268  1237500.347  Mischzonen      \n",
              "1       1  2680635.900  1236936.229  Mischzonen      \n",
              "2       1  2679016.828  1235828.156  Mischzonen      \n",
              "3       1  2679677.869  1237453.256  Mischzonen      \n",
              "4       1  2679692.997  1237491.284  Mischzonen      "
            ],
            "text/html": [
              "\n",
              "  <div id=\"df-dc333c93-fefd-428e-a8d4-619ec2ce4266\">\n",
              "    <div class=\"colab-df-container\">\n",
              "      <div>\n",
              "<style scoped>\n",
              "    .dataframe tbody tr th:only-of-type {\n",
              "        vertical-align: middle;\n",
              "    }\n",
              "\n",
              "    .dataframe tbody tr th {\n",
              "        vertical-align: top;\n",
              "    }\n",
              "\n",
              "    .dataframe thead th {\n",
              "        text-align: right;\n",
              "    }\n",
              "</style>\n",
              "<table border=\"1\" class=\"dataframe\">\n",
              "  <thead>\n",
              "    <tr style=\"text-align: right;\">\n",
              "      <th></th>\n",
              "      <th>GGDENR</th>\n",
              "      <th>GKODE</th>\n",
              "      <th>GKODN</th>\n",
              "      <th>Bauzone</th>\n",
              "      <th>Index</th>\n",
              "    </tr>\n",
              "  </thead>\n",
              "  <tbody>\n",
              "    <tr>\n",
              "      <th>0</th>\n",
              "      <td>1</td>\n",
              "      <td>2679647.268</td>\n",
              "      <td>1237500.347</td>\n",
              "      <td>Mischzonen</td>\n",
              "      <td></td>\n",
              "    </tr>\n",
              "    <tr>\n",
              "      <th>1</th>\n",
              "      <td>1</td>\n",
              "      <td>2680635.900</td>\n",
              "      <td>1236936.229</td>\n",
              "      <td>Mischzonen</td>\n",
              "      <td></td>\n",
              "    </tr>\n",
              "    <tr>\n",
              "      <th>2</th>\n",
              "      <td>1</td>\n",
              "      <td>2679016.828</td>\n",
              "      <td>1235828.156</td>\n",
              "      <td>Mischzonen</td>\n",
              "      <td></td>\n",
              "    </tr>\n",
              "    <tr>\n",
              "      <th>3</th>\n",
              "      <td>1</td>\n",
              "      <td>2679677.869</td>\n",
              "      <td>1237453.256</td>\n",
              "      <td>Mischzonen</td>\n",
              "      <td></td>\n",
              "    </tr>\n",
              "    <tr>\n",
              "      <th>4</th>\n",
              "      <td>1</td>\n",
              "      <td>2679692.997</td>\n",
              "      <td>1237491.284</td>\n",
              "      <td>Mischzonen</td>\n",
              "      <td></td>\n",
              "    </tr>\n",
              "  </tbody>\n",
              "</table>\n",
              "</div>\n",
              "      <button class=\"colab-df-convert\" onclick=\"convertToInteractive('df-dc333c93-fefd-428e-a8d4-619ec2ce4266')\"\n",
              "              title=\"Convert this dataframe to an interactive table.\"\n",
              "              style=\"display:none;\">\n",
              "        \n",
              "  <svg xmlns=\"http://www.w3.org/2000/svg\" height=\"24px\"viewBox=\"0 0 24 24\"\n",
              "       width=\"24px\">\n",
              "    <path d=\"M0 0h24v24H0V0z\" fill=\"none\"/>\n",
              "    <path d=\"M18.56 5.44l.94 2.06.94-2.06 2.06-.94-2.06-.94-.94-2.06-.94 2.06-2.06.94zm-11 1L8.5 8.5l.94-2.06 2.06-.94-2.06-.94L8.5 2.5l-.94 2.06-2.06.94zm10 10l.94 2.06.94-2.06 2.06-.94-2.06-.94-.94-2.06-.94 2.06-2.06.94z\"/><path d=\"M17.41 7.96l-1.37-1.37c-.4-.4-.92-.59-1.43-.59-.52 0-1.04.2-1.43.59L10.3 9.45l-7.72 7.72c-.78.78-.78 2.05 0 2.83L4 21.41c.39.39.9.59 1.41.59.51 0 1.02-.2 1.41-.59l7.78-7.78 2.81-2.81c.8-.78.8-2.07 0-2.86zM5.41 20L4 18.59l7.72-7.72 1.47 1.35L5.41 20z\"/>\n",
              "  </svg>\n",
              "      </button>\n",
              "      \n",
              "  <style>\n",
              "    .colab-df-container {\n",
              "      display:flex;\n",
              "      flex-wrap:wrap;\n",
              "      gap: 12px;\n",
              "    }\n",
              "\n",
              "    .colab-df-convert {\n",
              "      background-color: #E8F0FE;\n",
              "      border: none;\n",
              "      border-radius: 50%;\n",
              "      cursor: pointer;\n",
              "      display: none;\n",
              "      fill: #1967D2;\n",
              "      height: 32px;\n",
              "      padding: 0 0 0 0;\n",
              "      width: 32px;\n",
              "    }\n",
              "\n",
              "    .colab-df-convert:hover {\n",
              "      background-color: #E2EBFA;\n",
              "      box-shadow: 0px 1px 2px rgba(60, 64, 67, 0.3), 0px 1px 3px 1px rgba(60, 64, 67, 0.15);\n",
              "      fill: #174EA6;\n",
              "    }\n",
              "\n",
              "    [theme=dark] .colab-df-convert {\n",
              "      background-color: #3B4455;\n",
              "      fill: #D2E3FC;\n",
              "    }\n",
              "\n",
              "    [theme=dark] .colab-df-convert:hover {\n",
              "      background-color: #434B5C;\n",
              "      box-shadow: 0px 1px 3px 1px rgba(0, 0, 0, 0.15);\n",
              "      filter: drop-shadow(0px 1px 2px rgba(0, 0, 0, 0.3));\n",
              "      fill: #FFFFFF;\n",
              "    }\n",
              "  </style>\n",
              "\n",
              "      <script>\n",
              "        const buttonEl =\n",
              "          document.querySelector('#df-dc333c93-fefd-428e-a8d4-619ec2ce4266 button.colab-df-convert');\n",
              "        buttonEl.style.display =\n",
              "          google.colab.kernel.accessAllowed ? 'block' : 'none';\n",
              "\n",
              "        async function convertToInteractive(key) {\n",
              "          const element = document.querySelector('#df-dc333c93-fefd-428e-a8d4-619ec2ce4266');\n",
              "          const dataTable =\n",
              "            await google.colab.kernel.invokeFunction('convertToInteractive',\n",
              "                                                     [key], {});\n",
              "          if (!dataTable) return;\n",
              "\n",
              "          const docLinkHtml = 'Like what you see? Visit the ' +\n",
              "            '<a target=\"_blank\" href=https://colab.research.google.com/notebooks/data_table.ipynb>data table notebook</a>'\n",
              "            + ' to learn more about interactive tables.';\n",
              "          element.innerHTML = '';\n",
              "          dataTable['output_type'] = 'display_data';\n",
              "          await google.colab.output.renderOutput(dataTable, element);\n",
              "          const docLink = document.createElement('div');\n",
              "          docLink.innerHTML = docLinkHtml;\n",
              "          element.appendChild(docLink);\n",
              "        }\n",
              "      </script>\n",
              "    </div>\n",
              "  </div>\n",
              "  "
            ]
          },
          "metadata": {},
          "execution_count": 7
        }
      ]
    },
    {
      "cell_type": "code",
      "source": [
        "from google.colab import drive\n",
        "drive.mount('/content/drive')"
      ],
      "metadata": {
        "colab": {
          "base_uri": "https://localhost:8080/"
        },
        "id": "-7pDtJ5PvSNP",
        "outputId": "93937aab-0d4d-4675-c73a-3a8c286dd5e6"
      },
      "execution_count": 6,
      "outputs": [
        {
          "output_type": "stream",
          "name": "stdout",
          "text": [
            "Mounted at /content/drive\n"
          ]
        }
      ]
    },
    {
      "cell_type": "code",
      "source": [
        "#Read and format local communities\n",
        "gemeindeData =  pd.read_csv(\"/content/drive/MyDrive/Colab Notebooks/main_gemeinde_data.csv\", engine=\"python\", delimiter=';',usecols=['Index','Gemeinde_Nr','K1_Hoch','K2_Mittel','K3_Tief'])\n",
        "df_gemeindeData = pd.DataFrame(gemeindeData)\n",
        "print(df_gemeindeData.head())"
      ],
      "metadata": {
        "id": "7DaYoMhMn_oN",
        "colab": {
          "base_uri": "https://localhost:8080/"
        },
        "outputId": "6ed0a66a-ab64-421f-db02-b8916e8ed7d8"
      },
      "execution_count": 8,
      "outputs": [
        {
          "output_type": "stream",
          "name": "stdout",
          "text": [
            "   Index  Gemeinde_Nr  K1_Hoch  K2_Mittel  K3_Tief\n",
            "0      0          1.0     59.0       35.0     19.0\n",
            "1      1          2.0    699.0      411.0    226.0\n",
            "2      2          3.0    148.0       87.0     48.0\n",
            "3      3          4.0    126.0       74.0     41.0\n",
            "4      4          5.0    163.0       96.0     53.0\n"
          ]
        }
      ]
    },
    {
      "cell_type": "code",
      "source": [
        "for i in range(0, len(df_gebaude)-1):\n",
        "  bfs = df_gebaude.GGDENR.iloc[i]\n",
        "  x = i \n",
        "  for i in range(0, len(gemeindeData)-1):\n",
        "    if bfs == gemeindeData.Gemeinde_Nr.iloc[i]:\n",
        "      df_gebaude.Index.iloc[x] = gemeindeData.Index.iloc[i]\n",
        "      break\n"
      ],
      "metadata": {
        "id": "czVgkCjOhVzi",
        "colab": {
          "base_uri": "https://localhost:8080/"
        },
        "outputId": "7b756814-b43c-4cd9-d43d-c386d86060ea"
      },
      "execution_count": null,
      "outputs": [
        {
          "output_type": "stream",
          "name": "stderr",
          "text": [
            "/usr/local/lib/python3.7/dist-packages/pandas/core/indexing.py:1732: SettingWithCopyWarning: \n",
            "A value is trying to be set on a copy of a slice from a DataFrame\n",
            "\n",
            "See the caveats in the documentation: https://pandas.pydata.org/pandas-docs/stable/user_guide/indexing.html#returning-a-view-versus-a-copy\n",
            "  self._setitem_single_block(indexer, value, name)\n"
          ]
        }
      ]
    },
    {
      "cell_type": "code",
      "source": [
        "from sklearn.cluster import KMeans\n",
        "import numpy as np\n",
        "from numpy import savetxt\n",
        "\n",
        "# Wohnzone und eingeschränkte bauzonen, weitere bauzonen, verkehrzonen innerhlab der Bauzonen 20%\n",
        "# Mittlere, Arbeits und Mischzonen 40%\n",
        "# Hohe Dichte: Tourismus und Freizeitzonen, Zenturmszonen und Zonen für öffentliche Nutzung: 40%\n",
        "\n",
        "#Loops through the GWR-Dataset\n",
        "#Filter GWR-Dataset to communitites\n",
        "\n",
        "low_zone_NORTH = []\n",
        "low_zone_EAST = []\n",
        "middle_zone_NORTH = []\n",
        "middle_zone_EAST = []\n",
        "high_zone_NORTH = []\n",
        "high_zone_EAST = []\n",
        "qgis_coordinate_list = []\n",
        "\n",
        "#for i in range len(GemeineAnzahl):\n",
        "for i in range(905,906):\n",
        "  df_subset = df_gebaude[df_gebaude.GGDENR == 2]\n",
        "  k_iterator = i - 1\n",
        "  print(i)\n",
        "\n",
        "  #Stores filtered communitites to the according zone - Low / Middle / High to perform the right weighting - K in kmeans\n",
        "  #for i in range len(df_subset):\n",
        "  for i in range(0,len(df_subset)-1):\n",
        "    if df_subset.Bauzone.iloc[i] == 'Wohnzonen' or df_subset.Bauzone.iloc[i] == 'eingeschränkte Bauzonen' or df_subset.Bauzone.iloc[i] == 'weitere Bauzonen' or df_subset.Bauzone.iloc[i] == 'Verkehrszonen innerhalb der Bauzonen':\n",
        "      low_zone_NORTH.append(df_subset.GKODN.iloc[i])\n",
        "      low_zone_EAST.append(df_subset.GKODE.iloc[i])\n",
        "    else: \n",
        "      if df_subset.Bauzone.iloc[i] == 'Arbeitszonen' or df_subset.Bauzone.iloc[i] == 'Mischzonen':\n",
        "        middle_zone_NORTH.append(df_subset.GKODN.iloc[i])\n",
        "        middle_zone_EAST.append(df_subset.GKODE.iloc[i])\n",
        "      else:  \n",
        "        high_zone_NORTH.append(df_subset.GKODN.iloc[i])\n",
        "        high_zone_EAST.append(df_subset.GKODE.iloc[i])\n",
        "\n",
        "  #-------------------------------------- ------------------------------------Perform Kmeansn\n",
        "  #--------------------------------------------------------------------------Run kmeans on first list \n",
        "  df_low_zone_NORTH = pd.DataFrame(low_zone_NORTH)\n",
        "  df_low_zone_EAST = pd.DataFrame(low_zone_EAST)\n",
        "  df_middle_zone_NORTH = pd.DataFrame(middle_zone_NORTH)\n",
        "  df_middle_zone_EAST = pd.DataFrame(middle_zone_EAST)\n",
        "  df_high_zone_NORTH = pd.DataFrame(high_zone_NORTH)\n",
        "  df_high_zone_EAST = pd.DataFrame(high_zone_EAST)\n",
        "\n",
        "  df_low = pd.merge(df_low_zone_NORTH, df_low_zone_EAST, left_index=True, right_index=True)\n",
        "  np_array_low = df_low.to_numpy()\n",
        "\n",
        "  df_middle = pd.merge(df_middle_zone_NORTH, df_middle_zone_EAST, left_index=True, right_index=True)\n",
        "  np_array_middle = df_middle.to_numpy()\n",
        "\n",
        "  df_high = pd.merge(df_high_zone_NORTH, df_high_zone_EAST, left_index=True, right_index=True)\n",
        "  np_array_high = df_low.to_numpy()\n",
        "\n",
        "  #Begin Calculations with low\n",
        "  k = df_gemeindeData.K1_Hoch[k_iterator]\n",
        "  print(k)\n",
        "  k = k.astype(int)\n",
        "  k = round(k*0.2)\n",
        "  \n",
        "  kmeans = KMeans(n_clusters=k, random_state=0).fit(np_array_low)\n",
        "  #Set the labels\n",
        "  labels = kmeans.labels_\n",
        "  centroids = kmeans.cluster_centers_\n",
        "\n",
        "  #Store centroids of x and y individually\n",
        "  centroids_x = centroids[:,0]\n",
        "  centroids_y = centroids[:,1]\n",
        "\n",
        "  coordinate_list = []\n",
        "  for i in range(len(centroids_x)):\n",
        "    number = np.round(centroids[i],2)\n",
        "    coordinate_list.append(number)\n",
        "\n",
        "  qgis_coordinate_list.extend(coordinate_list)\n",
        "\n",
        "  #----------------------------------------------------------------------------------------------------------Run kmeans on seconnd secomd \n",
        "  df_middle_zone_NORTH = pd.DataFrame(middle_zone_NORTH)\n",
        "  df_middle_zone_EAST = pd.DataFrame(middle_zone_EAST)\n",
        "\n",
        "  df_middle = pd.merge(df_middle_zone_NORTH, df_middle_zone_EAST, left_index=True, right_index=True)\n",
        "  np_array = df_middle.to_numpy()\n",
        "  k = df_gemeindeData.K1_Hoch[k_iterator]\n",
        "  k = k.astype(int)\n",
        "  k = round(k*0.4)\n",
        "  kmeans = KMeans(n_clusters=k, random_state=0).fit(np_array)\n",
        "  #Set the labels\n",
        "  labels = kmeans.labels_\n",
        "  centroids = kmeans.cluster_centers_\n",
        "\n",
        "  #Store centroids of x and y individually\n",
        "  centroids_x = centroids[:,0]\n",
        "  centroids_y = centroids[:,1]\n",
        "\n",
        "  coordinate_list = []\n",
        "  for i in range(len(centroids_x)):\n",
        "    number = np.round(centroids[i],2)\n",
        "    coordinate_list.append(number)\n",
        "\n",
        "  qgis_coordinate_list.extend(coordinate_list)\n",
        "\n",
        "  #Append to list instead of save as or writetxt\n",
        "\n",
        "  #-------------------------------------------------------------------------------Run kmeans on third list \n",
        "  df_high_zone_NORTH = pd.DataFrame(high_zone_NORTH)\n",
        "  df_high_zone_EAST = pd.DataFrame(high_zone_EAST)\n",
        "\n",
        "  df_high = pd.merge(df_high_zone_NORTH, df_high_zone_EAST, left_index=True, right_index=True)\n",
        "  np_array = df_high.to_numpy()\n",
        "  k = df_gemeindeData.K1_Hoch[k_iterator]\n",
        "  k = k.astype(int)\n",
        "  k = round(k*0.4)\n",
        "  \n",
        "  kmeans = KMeans(n_clusters=k, random_state=0).fit(np_array)\n",
        "  #Set the labels\n",
        "  labels = kmeans.labels_\n",
        "  centroids = kmeans.cluster_centers_\n",
        "\n",
        "  #Store centroids of x and y individually\n",
        "  centroids_x = centroids[:,0]\n",
        "  centroids_y = centroids[:,1]\n",
        "\n",
        "  coordinate_list = []\n",
        "  for i in range(len(centroids_x)):\n",
        "    number = np.round(centroids[i],2)\n",
        "    coordinate_list.append(number)\n",
        "\n",
        "  qgis_coordinate_list.extend(coordinate_list)\n",
        "  k_iterator = k_iterator + 1\n",
        "\n",
        "savetxt('Ladestationen_Birsfelden.csv', qgis_coordinate_list, delimiter=',',fmt='%f')\n",
        "\n",
        "\n",
        "\n",
        "\n",
        "\n",
        "\n",
        "\n"
      ],
      "metadata": {
        "id": "1CjkwLbmLQ2I",
        "colab": {
          "base_uri": "https://localhost:8080/"
        },
        "outputId": "12c82c42-aafa-43f1-98b8-b96918d3d019"
      },
      "execution_count": 11,
      "outputs": [
        {
          "output_type": "stream",
          "name": "stdout",
          "text": [
            "905\n",
            "665.0\n"
          ]
        }
      ]
    },
    {
      "cell_type": "code",
      "source": [
        "k = df_gemeindeData.K1_Hoch[i-1]\n",
        "print(k)\n"
      ],
      "metadata": {
        "id": "t2f6vh8yL36I"
      },
      "execution_count": null,
      "outputs": []
    },
    {
      "cell_type": "code",
      "source": [],
      "metadata": {
        "id": "sV_J8BdR4g61"
      },
      "execution_count": null,
      "outputs": []
    }
  ]
}