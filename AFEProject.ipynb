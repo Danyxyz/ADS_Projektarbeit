{
  "nbformat": 4,
  "nbformat_minor": 0,
  "metadata": {
    "colab": {
      "provenance": [],
      "mount_file_id": "1sEuxr9TZGyhXZBZ5VjLAQZ1HLW9MEEqo",
      "authorship_tag": "ABX9TyMPzKOUVftpj/z23FCCva8X",
      "include_colab_link": true
    },
    "kernelspec": {
      "name": "python3",
      "display_name": "Python 3"
    },
    "language_info": {
      "name": "python"
    }
  },
  "cells": [
    {
      "cell_type": "markdown",
      "metadata": {
        "id": "view-in-github",
        "colab_type": "text"
      },
      "source": [
        "<a href=\"https://colab.research.google.com/github/Danyxyz/ADS_Projektarbeit/blob/main/AFEProject.ipynb\" target=\"_parent\"><img src=\"https://colab.research.google.com/assets/colab-badge.svg\" alt=\"Open In Colab\"/></a>"
      ]
    },
    {
      "cell_type": "code",
      "source": [
        "!pip install sklearn"
      ],
      "metadata": {
        "id": "vThNBNYOI5b9",
        "outputId": "726bc4ae-545f-458e-aa0c-9b822bd56731",
        "colab": {
          "base_uri": "https://localhost:8080/"
        }
      },
      "execution_count": null,
      "outputs": [
        {
          "output_type": "stream",
          "name": "stdout",
          "text": [
            "Looking in indexes: https://pypi.org/simple, https://us-python.pkg.dev/colab-wheels/public/simple/\n",
            "Collecting sklearn\n",
            "  Downloading sklearn-0.0.post1.tar.gz (3.6 kB)\n",
            "Building wheels for collected packages: sklearn\n",
            "  Building wheel for sklearn (setup.py) ... \u001b[?25l\u001b[?25hdone\n",
            "  Created wheel for sklearn: filename=sklearn-0.0.post1-py3-none-any.whl size=2344 sha256=8280fe057a996fd6ee2c71f8cc2165a39b296f9f6c6a13cc6327962e7e0f7330\n",
            "  Stored in directory: /root/.cache/pip/wheels/42/56/cc/4a8bf86613aafd5b7f1b310477667c1fca5c51c3ae4124a003\n",
            "Successfully built sklearn\n",
            "Installing collected packages: sklearn\n",
            "Successfully installed sklearn-0.0.post1\n"
          ]
        }
      ]
    },
    {
      "cell_type": "code",
      "execution_count": null,
      "metadata": {
        "id": "KJx7honLFn1n"
      },
      "outputs": [],
      "source": [
        "from pandas.core.dtypes.inference import Number\n",
        "from pandas.core.common import random_state\n",
        "from pandas import DataFrame\n",
        "import pandas as pd"
      ]
    },
    {
      "cell_type": "code",
      "source": [
        "#read in the data, only use relevant coloumns\n",
        "data = pd.read_csv(\"Gebäudeverzeichnis_edited.csv\",on_bad_lines=\"warn\", engine=\"python\", delimiter=',',usecols=['GGDENR','GGDENAME','EGID','BauzonenSchweiz_ZonesabatirSuisse_2017 — ch_are_bauzonen.shp_CH_BEZ_D','GKODE','GKODN'])\n",
        "\n",
        "#Formatting, putting in a DataFrame\n",
        "df_gebaude = pd.DataFrame(data)\n",
        "df_gebaude = df_gebaude.rename(columns={'BauzonenSchweiz_ZonesabatirSuisse_2017 — ch_are_bauzonen.shp_CH_BEZ_D': 'Bauzone'})\n",
        "df_gebaude.head(5)\n",
        "df_gebaude.describe()\n",
        "df_gebaude.count()\n",
        "\n",
        "#Merge GWR-Data and communities to one main list\n",
        "#df_gebaude = df_gebaude.merge(df_gemeindeData, left_on=\"GGDENR\", right_on=\"GemeindeNr\")\n",
        "#df_gebaude = df_gebaude.drop([\"EGID\",\"GGDENR\",\"GGDENAME\"], axis=1)\n",
        "#df_gebaude.head(5)\n"
      ],
      "metadata": {
        "colab": {
          "base_uri": "https://localhost:8080/"
        },
        "id": "gVoqJWtPHo5e",
        "outputId": "98ec2471-6fcc-44c0-9447-341dcbc4e882"
      },
      "execution_count": null,
      "outputs": [
        {
          "output_type": "stream",
          "name": "stderr",
          "text": [
            "Skipping line 753887: unexpected end of data\n"
          ]
        },
        {
          "output_type": "execute_result",
          "data": {
            "text/plain": [
              "EGID        753885\n",
              "GGDENR      753885\n",
              "GGDENAME    753885\n",
              "GKODE       753783\n",
              "GKODN       753783\n",
              "Bauzone     736316\n",
              "dtype: int64"
            ]
          },
          "metadata": {},
          "execution_count": 26
        }
      ]
    },
    {
      "cell_type": "code",
      "source": [
        "#Read and format local communities\n",
        "gemeindeData =  pd.read_csv(\"main_gemeinde_data.csv\", engine=\"python\", delimiter=';')\n",
        "df_gemeindeData = pd.DataFrame(gemeindeData)\n",
        "df_gemeindeData.head(5)"
      ],
      "metadata": {
        "colab": {
          "base_uri": "https://localhost:8080/"
        },
        "id": "czVgkCjOhVzi",
        "outputId": "f92aee26-37e6-441c-d27d-5bab6434e18b"
      },
      "execution_count": null,
      "outputs": [
        {
          "output_type": "execute_result",
          "data": {
            "text/plain": [
              "Gemeinde_Nr      2172\n",
              "Gemeinde_Name    2172\n",
              "Bev_Hoch         2173\n",
              "Besch_Hoch       2173\n",
              "K1_Hoch          2172\n",
              "K2_Mittel        2172\n",
              "K3_Tief          2172\n",
              "Unnamed: 7          0\n",
              "Unnamed: 8          0\n",
              "K1                  1\n",
              "K2                  1\n",
              "K3                  1\n",
              "dtype: int64"
            ]
          },
          "metadata": {},
          "execution_count": 5
        }
      ]
    },
    {
      "cell_type": "code",
      "source": [
        "from sklearn.cluster import KMeans\n",
        "import numpy as np\n",
        "from numpy import savetxt\n",
        "# Create a seperate list only x- and y-axis for kmeans algorithm and put into pandas Dataframe\n",
        "\n",
        "df_test = df_gebaude[df_gebaude[\"GGDENR\"] == 1]\n",
        "\n",
        "df_test = pd.DataFrame(df_test)\n",
        "df_augst = df_test.drop([\"EGID\",\"GGDENR\",\"GGDENAME\",\"Bauzone\"], axis=1)\n",
        "\n",
        "np_array = df_augst.to_numpy()\n",
        "\n",
        "#was ist unser Regelwerk - wie definieren wir k?\n",
        "#59\n",
        "\n",
        "# Wohnzone und eingeschränkte bauzonen, weitere bauzonen, verkehrzonen innerhlab der Bauzonen 20%\n",
        "# Mittlere, Arbeits und Mischzonen 40%\n",
        "# Hohe Dichte: Tourismus und Freizeitzonen, Zenturmszonen und Zonen für öffentliche Nutzung: 40%\n",
        "\n",
        "#Test with in range(1,5)\n",
        "\n",
        "\n",
        "#Loops through the GWR-Dataset\n",
        "#Filter GWR-Dataset to communitites\n",
        "#\n",
        "for i in range len(GemeineAnzahl):\n",
        "  #df_subset = Hauptliste filtern nach BFS-No 1\n",
        "  #k = get k from another list\n",
        "\n",
        "  #Stores filtered communitites to the according zone - Low / Middle / High to perform the right weighting - K in kmeans\n",
        "  for i in range len(df_subset):\n",
        "    low_zone = []\n",
        "    middle_zone = []\n",
        "    high_zone = []\n",
        "  # if df_subset at index 0 == \"Wohnzone\" || \"eingeschränkte Bauzonen\" || \"weitere Bauzonen\" || \"Verkehrszonen innerhalb der Bauzone\":\n",
        "      #append GKODE and GKodeN to low_zone\n",
        "  # else if: df_subset at index 0 == \"Mittlere Zone\" || \"Arbeitszone\" || \"Mischzone\":\n",
        "      ##append GKODE and GKodeN to middle_zone\n",
        "    #else append GKODE AND CODE ist 3\n",
        "  #out of first loop------------------------------------------------------------------------------------------Out of second loop\n",
        "  \n",
        "  #--------------------------------------------------------------------------Perform Kmeansn\n",
        "  #--------------------------------------------------------------------------Run kmeans on first list \n",
        "  ##convert low_zone to dataframe\n",
        "  #df_low_zone = pd.DataFrame(low_Zone)\n",
        "  #create numpy array \n",
        "  #np_array = df_low.to_numpy()\n",
        "  # k = k*0.2\n",
        "  # kmeans = KMeans(n_clusters=k, random_state=0).fit(np_array)\n",
        "  #Set the labels\n",
        "  labels = kmeans.labels_\n",
        "  centroids = kmeans.cluster_centers_\n",
        "\n",
        "  #Store centroids of x and y individually\n",
        "  centroids_x = centroids[:,0]\n",
        "  centroids_y = centroids[:,1]\n",
        "\n",
        "  coordinates_charging_stations = []\n",
        "  for i in range(len(centroids_x)):\n",
        "    number = np.round(centroids[i],2)\n",
        "    coordinates_charging_stations.append(number)\n",
        "\n",
        "  #Append to list instead of save as or writetxt\n",
        "  #savetxt('Koordianten_Ladestationen.csv', coordinate_charging_stations, delimiter=',',fmt='%f')\n",
        "\n",
        "  #----------------------------------------------------------------------------------------------------------Run kmeans on seconnd secomd \n",
        "  ##convert middle_zone to dataframe\n",
        "  #df_middle_zone = pd.DataFrame(middle_Zone)\n",
        "  #create numpy array \n",
        "  #np_array = df_middle_zone.to_numpy()\n",
        "  # k = k*0.4\n",
        "  # kmeans = KMeans(n_clusters=k, random_state=0).fit(np_array)\n",
        "  #Set the labels\n",
        "  labels = kmeans.labels_\n",
        "  centroids = kmeans.cluster_centers_\n",
        "\n",
        "  #Store centroids of x and y individually\n",
        "  centroids_x = centroids[:,0]\n",
        "  centroids_y = centroids[:,1]\n",
        "\n",
        "  coordinates_charging_stations = []\n",
        "  for i in range(len(centroids_x)):\n",
        "    number = np.round(centroids[i],2)\n",
        "    coordinates_charging_stations.append(number)\n",
        "\n",
        "  #Append to list instead of save as or writetxt\n",
        "\n",
        "  #-------------------------------------------------------------------------------Run kmeans on third list \n",
        "  ##convert high_zone to dataframe\n",
        "  #df_high_zone = pd.DataFrame(high_Zone)\n",
        "  #create numpy array \n",
        "  #np_array = df_high_zone.to_numpy()\n",
        "  # k = k*0.4\n",
        "  # kmeans = KMeans(n_clusters=k, random_state=0).fit(np_array)\n",
        "  #Set the labels\n",
        "  labels = kmeans.labels_\n",
        "  centroids = kmeans.cluster_centers_\n",
        "\n",
        "  #Store centroids of x and y individually\n",
        "  centroids_x = centroids[:,0]\n",
        "  centroids_y = centroids[:,1]\n",
        "\n",
        "  coordinates_charging_stations = []\n",
        "  for i in range(len(centroids_x)):\n",
        "    number = np.round(centroids[i],2)\n",
        "    coordinates_charging_stations.append(number)\n",
        "\n",
        "  #Append to list instead of save as or writetxt\n",
        "  #End of first loop\n",
        "  #Test with first 5 entries and check\n",
        "\n",
        "  #Exptected Result: List with 350'000 entries: GKODE and GKODEN in format to use for Qgis\n",
        "\n",
        "\n",
        "\n",
        "\n",
        "\n",
        "\n"
      ],
      "metadata": {
        "colab": {
          "base_uri": "https://localhost:8080/",
          "height": 131
        },
        "id": "1CjkwLbmLQ2I",
        "outputId": "eafc8067-22d6-4d46-c115-e400d27a41de"
      },
      "execution_count": 1,
      "outputs": [
        {
          "output_type": "error",
          "ename": "SyntaxError",
          "evalue": "ignored",
          "traceback": [
            "\u001b[0;36m  File \u001b[0;32m\"<ipython-input-1-bca25a6e756d>\"\u001b[0;36m, line \u001b[0;32m20\u001b[0m\n\u001b[0;31m    for i in range len(GemeineAnzahl):\u001b[0m\n\u001b[0m                     ^\u001b[0m\n\u001b[0;31mSyntaxError\u001b[0m\u001b[0;31m:\u001b[0m invalid syntax\n"
          ]
        }
      ]
    },
    {
      "cell_type": "code",
      "source": [
        "#Berechnung von K\n",
        "wohnzonen = df_test[df_test[\"Bauzone\"]==\"eingeschränkte Bauzone\"].count()\n",
        "df_test"
      ],
      "metadata": {
        "colab": {
          "base_uri": "https://localhost:8080/",
          "height": 424
        },
        "id": "MjycoPJ2cKvI",
        "outputId": "b8150de3-dc76-4889-a669-b78ebd82ccf9"
      },
      "execution_count": null,
      "outputs": [
        {
          "output_type": "execute_result",
          "data": {
            "text/plain": [
              "         EGID  GGDENR         GGDENAME        GKODE        GKODN  \\\n",
              "0    11513432       1  Aeugst am Albis  2679647.268  1237500.347   \n",
              "1    11513433       1  Aeugst am Albis  2680635.900  1236936.229   \n",
              "2    11517090       1  Aeugst am Albis  2679016.828  1235828.156   \n",
              "3     1600000       1  Aeugst am Albis  2679677.869  1237453.256   \n",
              "4     1600001       1  Aeugst am Albis  2679692.997  1237491.284   \n",
              "..        ...     ...              ...          ...          ...   \n",
              "977   3133155       1  Aeugst am Albis  2678915.860  1236119.257   \n",
              "978   3133156       1  Aeugst am Albis  2679364.987  1237487.702   \n",
              "979   3133157       1  Aeugst am Albis  2678534.759  1235244.699   \n",
              "980   3133158       1  Aeugst am Albis  2678991.034  1236015.372   \n",
              "981   9083165       1  Aeugst am Albis  2680559.103  1236868.358   \n",
              "\n",
              "                     Bauzone  \n",
              "0    eingeschränkte Bauzonen  \n",
              "1    eingeschränkte Bauzonen  \n",
              "2    eingeschränkte Bauzonen  \n",
              "3    eingeschränkte Bauzonen  \n",
              "4    eingeschränkte Bauzonen  \n",
              "..                       ...  \n",
              "977  eingeschränkte Bauzonen  \n",
              "978  eingeschränkte Bauzonen  \n",
              "979  eingeschränkte Bauzonen  \n",
              "980  eingeschränkte Bauzonen  \n",
              "981  eingeschränkte Bauzonen  \n",
              "\n",
              "[982 rows x 6 columns]"
            ],
            "text/html": [
              "\n",
              "  <div id=\"df-28590189-fd60-486f-bccd-1f1fffa98be4\">\n",
              "    <div class=\"colab-df-container\">\n",
              "      <div>\n",
              "<style scoped>\n",
              "    .dataframe tbody tr th:only-of-type {\n",
              "        vertical-align: middle;\n",
              "    }\n",
              "\n",
              "    .dataframe tbody tr th {\n",
              "        vertical-align: top;\n",
              "    }\n",
              "\n",
              "    .dataframe thead th {\n",
              "        text-align: right;\n",
              "    }\n",
              "</style>\n",
              "<table border=\"1\" class=\"dataframe\">\n",
              "  <thead>\n",
              "    <tr style=\"text-align: right;\">\n",
              "      <th></th>\n",
              "      <th>EGID</th>\n",
              "      <th>GGDENR</th>\n",
              "      <th>GGDENAME</th>\n",
              "      <th>GKODE</th>\n",
              "      <th>GKODN</th>\n",
              "      <th>Bauzone</th>\n",
              "    </tr>\n",
              "  </thead>\n",
              "  <tbody>\n",
              "    <tr>\n",
              "      <th>0</th>\n",
              "      <td>11513432</td>\n",
              "      <td>1</td>\n",
              "      <td>Aeugst am Albis</td>\n",
              "      <td>2679647.268</td>\n",
              "      <td>1237500.347</td>\n",
              "      <td>eingeschränkte Bauzonen</td>\n",
              "    </tr>\n",
              "    <tr>\n",
              "      <th>1</th>\n",
              "      <td>11513433</td>\n",
              "      <td>1</td>\n",
              "      <td>Aeugst am Albis</td>\n",
              "      <td>2680635.900</td>\n",
              "      <td>1236936.229</td>\n",
              "      <td>eingeschränkte Bauzonen</td>\n",
              "    </tr>\n",
              "    <tr>\n",
              "      <th>2</th>\n",
              "      <td>11517090</td>\n",
              "      <td>1</td>\n",
              "      <td>Aeugst am Albis</td>\n",
              "      <td>2679016.828</td>\n",
              "      <td>1235828.156</td>\n",
              "      <td>eingeschränkte Bauzonen</td>\n",
              "    </tr>\n",
              "    <tr>\n",
              "      <th>3</th>\n",
              "      <td>1600000</td>\n",
              "      <td>1</td>\n",
              "      <td>Aeugst am Albis</td>\n",
              "      <td>2679677.869</td>\n",
              "      <td>1237453.256</td>\n",
              "      <td>eingeschränkte Bauzonen</td>\n",
              "    </tr>\n",
              "    <tr>\n",
              "      <th>4</th>\n",
              "      <td>1600001</td>\n",
              "      <td>1</td>\n",
              "      <td>Aeugst am Albis</td>\n",
              "      <td>2679692.997</td>\n",
              "      <td>1237491.284</td>\n",
              "      <td>eingeschränkte Bauzonen</td>\n",
              "    </tr>\n",
              "    <tr>\n",
              "      <th>...</th>\n",
              "      <td>...</td>\n",
              "      <td>...</td>\n",
              "      <td>...</td>\n",
              "      <td>...</td>\n",
              "      <td>...</td>\n",
              "      <td>...</td>\n",
              "    </tr>\n",
              "    <tr>\n",
              "      <th>977</th>\n",
              "      <td>3133155</td>\n",
              "      <td>1</td>\n",
              "      <td>Aeugst am Albis</td>\n",
              "      <td>2678915.860</td>\n",
              "      <td>1236119.257</td>\n",
              "      <td>eingeschränkte Bauzonen</td>\n",
              "    </tr>\n",
              "    <tr>\n",
              "      <th>978</th>\n",
              "      <td>3133156</td>\n",
              "      <td>1</td>\n",
              "      <td>Aeugst am Albis</td>\n",
              "      <td>2679364.987</td>\n",
              "      <td>1237487.702</td>\n",
              "      <td>eingeschränkte Bauzonen</td>\n",
              "    </tr>\n",
              "    <tr>\n",
              "      <th>979</th>\n",
              "      <td>3133157</td>\n",
              "      <td>1</td>\n",
              "      <td>Aeugst am Albis</td>\n",
              "      <td>2678534.759</td>\n",
              "      <td>1235244.699</td>\n",
              "      <td>eingeschränkte Bauzonen</td>\n",
              "    </tr>\n",
              "    <tr>\n",
              "      <th>980</th>\n",
              "      <td>3133158</td>\n",
              "      <td>1</td>\n",
              "      <td>Aeugst am Albis</td>\n",
              "      <td>2678991.034</td>\n",
              "      <td>1236015.372</td>\n",
              "      <td>eingeschränkte Bauzonen</td>\n",
              "    </tr>\n",
              "    <tr>\n",
              "      <th>981</th>\n",
              "      <td>9083165</td>\n",
              "      <td>1</td>\n",
              "      <td>Aeugst am Albis</td>\n",
              "      <td>2680559.103</td>\n",
              "      <td>1236868.358</td>\n",
              "      <td>eingeschränkte Bauzonen</td>\n",
              "    </tr>\n",
              "  </tbody>\n",
              "</table>\n",
              "<p>982 rows × 6 columns</p>\n",
              "</div>\n",
              "      <button class=\"colab-df-convert\" onclick=\"convertToInteractive('df-28590189-fd60-486f-bccd-1f1fffa98be4')\"\n",
              "              title=\"Convert this dataframe to an interactive table.\"\n",
              "              style=\"display:none;\">\n",
              "        \n",
              "  <svg xmlns=\"http://www.w3.org/2000/svg\" height=\"24px\"viewBox=\"0 0 24 24\"\n",
              "       width=\"24px\">\n",
              "    <path d=\"M0 0h24v24H0V0z\" fill=\"none\"/>\n",
              "    <path d=\"M18.56 5.44l.94 2.06.94-2.06 2.06-.94-2.06-.94-.94-2.06-.94 2.06-2.06.94zm-11 1L8.5 8.5l.94-2.06 2.06-.94-2.06-.94L8.5 2.5l-.94 2.06-2.06.94zm10 10l.94 2.06.94-2.06 2.06-.94-2.06-.94-.94-2.06-.94 2.06-2.06.94z\"/><path d=\"M17.41 7.96l-1.37-1.37c-.4-.4-.92-.59-1.43-.59-.52 0-1.04.2-1.43.59L10.3 9.45l-7.72 7.72c-.78.78-.78 2.05 0 2.83L4 21.41c.39.39.9.59 1.41.59.51 0 1.02-.2 1.41-.59l7.78-7.78 2.81-2.81c.8-.78.8-2.07 0-2.86zM5.41 20L4 18.59l7.72-7.72 1.47 1.35L5.41 20z\"/>\n",
              "  </svg>\n",
              "      </button>\n",
              "      \n",
              "  <style>\n",
              "    .colab-df-container {\n",
              "      display:flex;\n",
              "      flex-wrap:wrap;\n",
              "      gap: 12px;\n",
              "    }\n",
              "\n",
              "    .colab-df-convert {\n",
              "      background-color: #E8F0FE;\n",
              "      border: none;\n",
              "      border-radius: 50%;\n",
              "      cursor: pointer;\n",
              "      display: none;\n",
              "      fill: #1967D2;\n",
              "      height: 32px;\n",
              "      padding: 0 0 0 0;\n",
              "      width: 32px;\n",
              "    }\n",
              "\n",
              "    .colab-df-convert:hover {\n",
              "      background-color: #E2EBFA;\n",
              "      box-shadow: 0px 1px 2px rgba(60, 64, 67, 0.3), 0px 1px 3px 1px rgba(60, 64, 67, 0.15);\n",
              "      fill: #174EA6;\n",
              "    }\n",
              "\n",
              "    [theme=dark] .colab-df-convert {\n",
              "      background-color: #3B4455;\n",
              "      fill: #D2E3FC;\n",
              "    }\n",
              "\n",
              "    [theme=dark] .colab-df-convert:hover {\n",
              "      background-color: #434B5C;\n",
              "      box-shadow: 0px 1px 3px 1px rgba(0, 0, 0, 0.15);\n",
              "      filter: drop-shadow(0px 1px 2px rgba(0, 0, 0, 0.3));\n",
              "      fill: #FFFFFF;\n",
              "    }\n",
              "  </style>\n",
              "\n",
              "      <script>\n",
              "        const buttonEl =\n",
              "          document.querySelector('#df-28590189-fd60-486f-bccd-1f1fffa98be4 button.colab-df-convert');\n",
              "        buttonEl.style.display =\n",
              "          google.colab.kernel.accessAllowed ? 'block' : 'none';\n",
              "\n",
              "        async function convertToInteractive(key) {\n",
              "          const element = document.querySelector('#df-28590189-fd60-486f-bccd-1f1fffa98be4');\n",
              "          const dataTable =\n",
              "            await google.colab.kernel.invokeFunction('convertToInteractive',\n",
              "                                                     [key], {});\n",
              "          if (!dataTable) return;\n",
              "\n",
              "          const docLinkHtml = 'Like what you see? Visit the ' +\n",
              "            '<a target=\"_blank\" href=https://colab.research.google.com/notebooks/data_table.ipynb>data table notebook</a>'\n",
              "            + ' to learn more about interactive tables.';\n",
              "          element.innerHTML = '';\n",
              "          dataTable['output_type'] = 'display_data';\n",
              "          await google.colab.output.renderOutput(dataTable, element);\n",
              "          const docLink = document.createElement('div');\n",
              "          docLink.innerHTML = docLinkHtml;\n",
              "          element.appendChild(docLink);\n",
              "        }\n",
              "      </script>\n",
              "    </div>\n",
              "  </div>\n",
              "  "
            ]
          },
          "metadata": {},
          "execution_count": 32
        }
      ]
    },
    {
      "cell_type": "code",
      "source": [
        "from numpy import savetxt\n",
        "\n",
        "savetxt('Ladestationen_Augst.csv', new_list, delimiter=',',fmt='%f')\n",
        "\n",
        "\n"
      ],
      "metadata": {
        "id": "HMOJXTgGN2C5"
      },
      "execution_count": null,
      "outputs": []
    },
    {
      "cell_type": "code",
      "source": [
        "Bauzonen_gesamt = df_gebaude[\"Bauzone\"].value_counts()\n",
        "Bauzonen_gesamt\n",
        "\n",
        "\n"
      ],
      "metadata": {
        "colab": {
          "base_uri": "https://localhost:8080/"
        },
        "id": "DyOkAnrOOmae",
        "outputId": "426de973-d5d2-488a-bfd8-9a17dd8569c3"
      },
      "execution_count": null,
      "outputs": [
        {
          "output_type": "execute_result",
          "data": {
            "text/plain": [
              "eingeschränkte Bauzonen            385079\n",
              "weitere Bauzonen                   202850\n",
              "Zonen für öffentliche Nutzungen     75599\n",
              "Tourismus- und Freizeitzonen        71237\n",
              "Mischzonen                           1240\n",
              "Zentrumszonen                         311\n",
              "Name: Bauzone, dtype: int64"
            ]
          },
          "metadata": {},
          "execution_count": 34
        }
      ]
    }
  ]
}